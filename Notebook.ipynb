{
  "cells": [
    {
      "cell_type": "markdown",
      "source": [
        "## Description Of The Method\n",
        "\n",
        "---\n",
        "\n",
        "In this notebook, we present a new direction for increasing the interpretability of Deep Neural Networks (DNNs) by proposing to replace the linear transforms in DNNs by the **B-cos transform**.\n",
        "\n",
        "The B-cos transform is designed to be compatible with existing architectures and\n",
        "we show that it can easily be integrated into common models such as *VGGs*, *ResNets*, *InceptionNets*, and *DenseNets*, whilst maintaining similar performance.\n",
        "\n",
        "---"
      ],
      "metadata": {
        "id": "w0cjE6mANn5h"
      }
    },
    {
      "cell_type": "markdown",
      "source": [
        "### The B-cos Transform\n",
        "\n",
        "---\n",
        "\n",
        "Typically, the individual neurons in a DNN compute the dot product between their weights **w** and an input **x**:\n",
        "\n",
        "`f(x; w) = wᵀ x = ||w|| ||x|| c(x, w) with c(x, w) = cos(∠(x, w)).`\n",
        "\n",
        "Here, `∠(x, w)` returns the angle between the vectors **x** and **w**.\n",
        "\n",
        "In this work, we seek to improve the interpretability of DNNs by promoting weight-input alignment during optimisation.\n",
        "\n",
        "To achieve this, we propose the **B-cos transform**:\n",
        "\n",
        "`B-cos(x; w) = ||ŵ|| ||x|| |c(x, ŵ)|ᴮ × sgn (c(x, ŵ)).`\n",
        "\n",
        "Here, *B* is a hyperparameter, the hat-operator scales **ŵ** to unit norm, and `sgn` denotes the *sign* function.\n",
        "\n",
        "Note that this only introduces minor changes with respect to the first equation; e.g., for *B* = 1, the B-cos transform is equivalent to a linear transform with **ŵ**.\n",
        "\n",
        "These changes maintain an important property of the linear transform: similar to sequences of linear transforms, sequences of B-cos transforms can still be faithfully summarised by a single linear transform.\n",
        "\n",
        "---"
      ],
      "metadata": {
        "id": "Y7E10NWZOffz"
      }
    },
    {
      "cell_type": "markdown",
      "source": [
        "### B-cos Networks\n",
        "\n",
        "---\n",
        "\n",
        "The B-cos transform is designed as a *drop-in* replacement of the linear transform, i.e., it can be used in exactly the same way.\n",
        "\n",
        "For example, a conventional fully connected multi-layer neural network f(**x**; θ) of L layers, is represented by:\n",
        "\n",
        "`f(x; θ) = lL ◦ lL−1 ◦ ... ◦ l2 ◦ l1(x),`\n",
        "\n",
        "with lⱼ denoting layer j with parameters **w**ᵏⱼ for neuron k in layer j, and θ the collection of all model parameters.\n",
        "\n",
        "In such a model, each layer lⱼ typically computes:\n",
        "\n",
        "`lⱼ(aⱼ; Wⱼ) = φ(Wⱼ aⱼ),`\n",
        "\n",
        "with aⱼ the input to layer j, φ a non-linear activation function (e.g., ReLU), and the row k of Wⱼ given by the weight vector **w**ᵏⱼ of the k-th neuron in that layer.\n",
        "\n",
        "A corresponding **B-cos network** f with layers lⱼ can be formulated in exactly the same way, with the only difference being that every dot product (here between rows of Wⱼ and the input aⱼ) is replaced by the B-cos transform.\n",
        "\n",
        "In matrix form, this equates to:\n",
        "\n",
        "`lⱼ(aⱼ; Wⱼ) = |c(aⱼ; Ŵⱼ)|^(B-1) × (Ŵⱼ aⱼ)`,`\n",
        "\n",
        "Here, the power, absolute value, and `×` operators are applied element-wise, `c(aⱼ; Ŵⱼ)` computes the cosine similarity between input aⱼ and the rows of Ŵⱼ, and the hat operator scales the rows of Ŵⱼ to unit norm.\n",
        "\n",
        "Finally, note that for *B* > 1 the layer transform lⱼ is non-linear.\n",
        "As a result, a non-linearity φ is not required for a B-cos network to model non-linear relationships.\n",
        "\n",
        "---"
      ],
      "metadata": {
        "id": "nw9xRQH4OqMV"
      }
    },
    {
      "cell_type": "markdown",
      "source": [
        "### MaxOut To Increase Modelling Capacity\n",
        "\n",
        "---\n",
        "\n",
        "As discussed, a deep B-cos network with *B* > 1 does not require a non-linearity between subsequent layers to model non-linear relationships.\n",
        "This, of course, does not mean that it could not benefit from it.\n",
        "\n",
        "In this work, we specifically explore the option of combining the B-cos\n",
        "transform with the MaxOut operation.\n",
        "In particular, we model every neuron in a B-cos network by 2 B-cos transforms of which the maximal activation is forwarded:\n",
        "\n",
        "`MaxOut(x) = max{B-cos(x; wᵢ)} with i∈{1,2}`,\n",
        "\n",
        "We noticed that networks with the MaxOut operation were much easier to optimise with respect to the ReLU operation.\n",
        "\n",
        "---"
      ],
      "metadata": {
        "id": "gGhdq6giPuCS"
      }
    },
    {
      "cell_type": "markdown",
      "source": [
        "### Advanced B-cos Networks\n",
        "\n",
        "---\n",
        "\n",
        "To test the generality of this approach, we evaluate how integrating the B-cos transform into commonly used DNN architectures affects their classification performance and interpretability.\n",
        "\n",
        "In order to \"convert\" such models to B-cos networks we proceed as follows:\n",
        "\n",
        "*   First, every convolutional kernel / fully connected layer is replaced by the corresponding B-cos version with two MaxOut units.\n",
        "\n",
        "*   Secondly, any other non-linearities (e.g., ReLU, MaxPool, etc.), as well as any batch norm layers are removed to maintain the alignment pressure and to ensure that the model can be summarised via a single linear transform.\n",
        "\n",
        "---"
      ],
      "metadata": {
        "id": "mJNOC_aiO6bU"
      }
    },
    {
      "cell_type": "markdown",
      "source": [
        "### Models\n",
        "\n",
        "---\n",
        "\n",
        "For the experiments, we rely on the publicly available implementations of the VGG-11, ResNet-34, InceptionNet (v3), and DenseNet-121 model architectures. We adapt those architectures to B-cos networks as described before.\n",
        "\n",
        "---"
      ],
      "metadata": {
        "id": "eIosfpa0QN5b"
      }
    },
    {
      "cell_type": "markdown",
      "source": [
        "## An Example Of How To Use The Method\n",
        "\n",
        "---\n",
        "\n",
        "As I said, in order to \"convert\" DNN models to B-cos networks we need to:\n",
        "\n",
        "*   First, replace every convolutional kernel / fully connected layer with the corresponding B-cos version with two MaxOut units.\n",
        "\n",
        "*   Secondly, remove any other non-linearities (e.g., ReLU, MaxPool, etc.), as well as any batch norm layers.\n",
        "\n",
        "The following code shows an example of this method with the ResNet model.\n",
        "\n",
        "---"
      ],
      "metadata": {
        "id": "F2DXH7U1Sbmz"
      }
    },
    {
      "cell_type": "code",
      "source": [
        "import torch.nn as nn\n",
        "\n",
        "def conv3x3(in_planes: int, out_planes: int, stride: int = 1) -> BcosConv2d:\n",
        "    \"\"\"3x3 convolution with padding\"\"\"\n",
        "    return BcosConv2d(in_planes, out_planes, kernel_size=3, stride=stride, padding=1)\n",
        "\n",
        "\n",
        "def conv1x1(in_planes: int, out_planes: int, stride: int = 1) -> BcosConv2d:\n",
        "    \"\"\"1x1 convolution without padding\"\"\"\n",
        "    return BcosConv2d(in_planes, out_planes, kernel_size=1, stride=stride)\n",
        "\n",
        "\n",
        "class BasicBlock(nn.Module):\n",
        "    expansion = 1\n",
        "\n",
        "    def __init__(self, in_planes, planes, stride=1):\n",
        "        super(BasicBlock, self).__init__()\n",
        "\n",
        "        self.conv1 = conv3x3(in_planes, planes, stride)  # Instead of: self.conv1 = nn.Conv2d(in_planes, planes, kernel_size=3, stride=stride, padding=1, bias=False)\n",
        "        # self.bn1 = nn.BatchNorm2d(planes)\n",
        "        self.conv2 = conv3x3(planes, planes)  # Instead of: self.conv2 = nn.Conv2d(planes, planes, kernel_size=3, stride=1, padding=1, bias=False)\n",
        "        # self.bn2 = nn.BatchNorm2d(planes)\n",
        "\n",
        "        self.shortcut = nn.Sequential()\n",
        "        if stride != 1 or in_planes != self.expansion*planes:\n",
        "            self.shortcut = nn.Sequential(conv1x1(in_planes, self.expansion*planes, stride)  # Instead of: nn.Conv2d(in_planes, self.expansion*planes, kernel_size=1, stride=stride, bias=False)\n",
        "                                          # nn.BatchNorm2d(self.expansion*planes)\n",
        "                                          )\n",
        "\n",
        "    def forward(self, x):\n",
        "        out = self.conv1(x)  # Instead of: out = F.relu(self.bn1(self.conv1(x)))\n",
        "        out = self.conv2(out)  # Instead of: out = self.bn2(self.conv2(out))\n",
        "        out += self.shortcut(x)\n",
        "        # out = F.relu(out)\n",
        "        return out\n",
        "\n",
        "\n",
        "class Bottleneck(nn.Module):\n",
        "    expansion = 4\n",
        "\n",
        "    def __init__(self, in_planes, planes, stride=1):\n",
        "        super(Bottleneck, self).__init__()\n",
        "\n",
        "        self.conv1 = conv1x1(in_planes, planes)  # Instead of: self.conv1 = nn.Conv2d(in_planes, planes, kernel_size=1, bias=False)\n",
        "        # self.bn1 = nn.BatchNorm2d(planes)\n",
        "        self.conv2 = conv3x3(planes, planes, stride)  # Instead of: self.conv2 = nn.Conv2d(planes, planes, kernel_size=3, stride=stride, padding=1, bias=False)\n",
        "        # self.bn2 = nn.BatchNorm2d(planes)\n",
        "        self.conv3 = conv1x1(planes, planes * self.expansion)  # Instead of: self.conv3 = nn.Conv2d(planes, planes * self.expansion, kernel_size=1, bias=False)\n",
        "        # self.bn3 = nn.BatchNorm2d(self.expansion*planes)\n",
        "\n",
        "        self.shortcut = nn.Sequential()\n",
        "        if stride != 1 or in_planes != self.expansion*planes:\n",
        "            self.shortcut = nn.Sequential(conv1x1(in_planes, self.expansion*planes, stride)  # Instead of: nn.Conv2d(in_planes, self.expansion*planes, kernel_size=1, stride=stride, bias=False)\n",
        "                                          #  nn.BatchNorm2d(self.expansion*planes)\n",
        "                                          )\n",
        "\n",
        "    def forward(self, x):\n",
        "        out = self.conv1(x)  # out = F.relu(self.bn1(self.conv1(x)))\n",
        "        out = self.conv2(out)  # out = F.relu(self.bn2(self.conv2(out)))\n",
        "        out = self.conv3(out)  # out = self.bn3(self.conv3(out))\n",
        "        out += self.shortcut(x)\n",
        "        # out = F.relu(out)\n",
        "        return out\n",
        "\n",
        "\n",
        "class ResNet(nn.Module):\n",
        "\n",
        "    def __init__(self, block, num_blocks, num_classes=10):\n",
        "        super(ResNet, self).__init__()\n",
        "\n",
        "        self.in_planes = 64\n",
        "\n",
        "        self.conv1 = conv3x3(3, self.in_planes, stride=1)  # Instead of: self.conv1 = nn.Conv2d(3, self.in_planes, kernel_size=3, stride=1, padding=1, bias=False)\n",
        "        # self.bn1 = nn.BatchNorm2d(self.in_planes)\n",
        "\n",
        "        self.layer1 = self._make_layer(block, 64, num_blocks[0], stride=1)\n",
        "        self.layer2 = self._make_layer(block, 128, num_blocks[1], stride=2)\n",
        "        self.layer3 = self._make_layer(block, 256, num_blocks[2], stride=2)\n",
        "        self.layer4 = self._make_layer(block, 512, num_blocks[3], stride=2)\n",
        "\n",
        "        self.linear = BcosConv2d(512*block.expansion, num_classes)  # Instead of: self.linear = nn.Linear(512*block.expansion, num_classes)\n",
        "\n",
        "    def _make_layer(self, block, planes, num_blocks, stride):\n",
        "        strides = [stride] + [1]*(num_blocks-1)\n",
        "        layers = []\n",
        "        for stride in strides:\n",
        "            layers.append(block(self.in_planes, planes, stride))\n",
        "            self.in_planes = planes * block.expansion\n",
        "        return nn.Sequential(*layers)\n",
        "\n",
        "    def forward(self, x):\n",
        "\n",
        "        out = self.conv1(x)  # Instead of: out = F.relu(self.bn1(self.conv1(x)))\n",
        "\n",
        "        out = self.layer1(out)\n",
        "        out = self.layer2(out)\n",
        "        out = self.layer3(out)\n",
        "        out = self.layer4(out)\n",
        "\n",
        "        # out = F.avg_pool2d(out, 4)\n",
        "\n",
        "        out = self.linear(out)\n",
        "        out = out.view(out.size(0), -1)\n",
        "\n",
        "        return out"
      ],
      "metadata": {
        "id": "Jd6Ox85sUppm"
      },
      "execution_count": null,
      "outputs": []
    },
    {
      "cell_type": "markdown",
      "source": [
        "## Summary Of The Main Results\n",
        "\n",
        "---\n",
        "\n",
        "We evaluate the B-cos networks across all models to investigate which one provides the best explanation.\n",
        "\n",
        "This makes it possible to compare explanations between different models and to evaluate the explainability gain achieved by converting conventional models to B-cos networks.\n",
        "\n",
        "---"
      ],
      "metadata": {
        "id": "h4wbfyj1Tcmq"
      }
    },
    {
      "cell_type": "markdown",
      "source": [
        "### ResNet with CIFAR10"
      ],
      "metadata": {
        "id": "LRMVnk3nc9ps"
      }
    },
    {
      "cell_type": "code",
      "source": [
        "#@title\n",
        "from tabulate import tabulate\n",
        "\n",
        "print('\\n\\n CLASSIFICATION METRICS \\n')\n",
        "table = [[\"Epochs\", \"Accuracy\", \"F1-score\", \"Precision\", \"Recall\"], [5, 0.4711, 0.4518, 0.4779, 0.4711]]\n",
        "print(tabulate(table, tablefmt='fancy_grid'))\n",
        "print('\\n')"
      ],
      "metadata": {
        "colab": {
          "base_uri": "https://localhost:8080/"
        },
        "id": "iDTZWYcCrzy3",
        "outputId": "8a7b847f-44b3-4922-b1ca-3f281b508681"
      },
      "execution_count": null,
      "outputs": [
        {
          "output_type": "stream",
          "name": "stdout",
          "text": [
            "\n",
            "\n",
            " CLASSIFICATION METRICS \n",
            "\n",
            "╒════════╤══════════╤══════════╤═══════════╤════════╕\n",
            "│ Epochs │ Accuracy │ F1-score │ Precision │ Recall │\n",
            "├────────┼──────────┼──────────┼───────────┼────────┤\n",
            "│ 5      │ 0.4711   │ 0.4518   │ 0.4779    │ 0.4711 │\n",
            "╘════════╧══════════╧══════════╧═══════════╧════════╛\n",
            "\n",
            "\n"
          ]
        }
      ]
    },
    {
      "cell_type": "markdown",
      "source": [
        "![ResNet.jpg](data:image/jpeg;base64,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)"
      ],
      "metadata": {
        "id": "1dQzlFHd3XSW"
      }
    },
    {
      "cell_type": "markdown",
      "source": [
        "### VGG with CIFAR10"
      ],
      "metadata": {
        "id": "Ee7xSRO8nJzN"
      }
    },
    {
      "cell_type": "markdown",
      "source": [
        "I was not able to train the VGG model as the time taken for a single epoch was around 35 hours."
      ],
      "metadata": {
        "id": "7C6cwgdZq4Wh"
      }
    },
    {
      "cell_type": "markdown",
      "source": [
        "### DenseNet with CIFAR10"
      ],
      "metadata": {
        "id": "lfytMvVpe4Zi"
      }
    },
    {
      "cell_type": "code",
      "source": [
        "#@title\n",
        "from tabulate import tabulate\n",
        "\n",
        "print('\\n\\n CLASSIFICATION METRICS \\n')\n",
        "table = [[\"Epochs\", \"Accuracy\", \"F1-score\", \"Precision\", \"Recall\"], [5, 0.4311, 0.4131, 0.4272, 0.4311]]\n",
        "print(tabulate(table, tablefmt='fancy_grid'))\n",
        "print('\\n')"
      ],
      "metadata": {
        "colab": {
          "base_uri": "https://localhost:8080/"
        },
        "id": "6XHtgT1ttb-i",
        "outputId": "f90c1c0a-7ee3-45c5-89cb-3e066ef7652f"
      },
      "execution_count": null,
      "outputs": [
        {
          "output_type": "stream",
          "name": "stdout",
          "text": [
            "\n",
            "\n",
            " CLASSIFICATION METRICS \n",
            "\n",
            "╒════════╤══════════╤══════════╤═══════════╤════════╕\n",
            "│ Epochs │ Accuracy │ F1-score │ Precision │ Recall │\n",
            "├────────┼──────────┼──────────┼───────────┼────────┤\n",
            "│ 5      │ 0.4311   │ 0.4131   │ 0.4272    │ 0.4311 │\n",
            "╘════════╧══════════╧══════════╧═══════════╧════════╛\n",
            "\n",
            "\n"
          ]
        }
      ]
    },
    {
      "cell_type": "markdown",
      "source": [
        "![DenseNet.jpg](data:image/jpeg;base64,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)"
      ],
      "metadata": {
        "id": "7mN1f_2JnNz3"
      }
    },
    {
      "cell_type": "markdown",
      "source": [
        "### InceptionNet with CIFAR10"
      ],
      "metadata": {
        "id": "kCDeDyCNexqx"
      }
    },
    {
      "cell_type": "code",
      "source": [
        "#@title\n",
        "from tabulate import tabulate\n",
        "\n",
        "print('\\n\\n CLASSIFICATION METRICS \\n')\n",
        "table = [[\"Epochs\", \"Accuracy\", \"F1-score\", \"Precision\", \"Recall\"], [5, 0.3471, 0.2962,  0.2726, 0.3471]]\n",
        "print(tabulate(table, tablefmt='fancy_grid'))\n",
        "print('\\n')"
      ],
      "metadata": {
        "colab": {
          "base_uri": "https://localhost:8080/"
        },
        "id": "ocYRPK6etc6k",
        "outputId": "cdf7a2b5-eb25-4c6d-8fc6-a27f2affe9d1"
      },
      "execution_count": null,
      "outputs": [
        {
          "output_type": "stream",
          "name": "stdout",
          "text": [
            "\n",
            "\n",
            " CLASSIFICATION METRICS \n",
            "\n",
            "╒════════╤══════════╤══════════╤═══════════╤════════╕\n",
            "│ Epochs │ Accuracy │ F1-score │ Precision │ Recall │\n",
            "├────────┼──────────┼──────────┼───────────┼────────┤\n",
            "│ 5      │ 0.3471   │ 0.2962   │ 0.2726    │ 0.3471 │\n",
            "╘════════╧══════════╧══════════╧═══════════╧════════╛\n",
            "\n",
            "\n"
          ]
        }
      ]
    },
    {
      "cell_type": "markdown",
      "source": [
        "![InceptioNet.jpg](data:image/jpeg;base64,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)"
      ],
      "metadata": {
        "id": "-Wen3oemnSwl"
      }
    }
  ],
  "metadata": {
    "colab": {
      "provenance": [],
      "collapsed_sections": [
        "w0cjE6mANn5h",
        "F2DXH7U1Sbmz",
        "h4wbfyj1Tcmq",
        "LRMVnk3nc9ps",
        "Ee7xSRO8nJzN",
        "lfytMvVpe4Zi",
        "kCDeDyCNexqx"
      ]
    },
    "kernelspec": {
      "display_name": "Python 3",
      "name": "python3"
    }
  },
  "nbformat": 4,
  "nbformat_minor": 0
}
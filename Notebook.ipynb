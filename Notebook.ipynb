{
  "cells": [
    {
      "cell_type": "markdown",
      "source": [
        "## Description Of The Method\n",
        "\n",
        "---\n",
        "\n",
        "In this notebook, we present a new direction for increasing the interpretability of Deep Neural Networks (DNNs) by proposing to replace the linear transforms in DNNs by the **B-cos transform**.\n",
        "\n",
        "The B-cos transform is designed to be compatible with existing architectures and\n",
        "we show that it can easily be integrated into common models such as *VGGs*, *ResNets*, *InceptionNets*, and *DenseNets*, whilst maintaining similar performance.\n",
        "\n",
        "---"
      ],
      "metadata": {
        "id": "w0cjE6mANn5h"
      }
    },
    {
      "cell_type": "markdown",
      "source": [
        "### The B-cos Transform\n",
        "\n",
        "---\n",
        "\n",
        "Typically, the individual neurons in a DNN compute the dot product between their weights **w** and an input **x**:\n",
        "\n",
        "`f(x; w) = wᵀ x = ||w|| ||x|| c(x, w) with c(x, w) = cos(∠(x, w)).`\n",
        "\n",
        "Here, `∠(x, w)` returns the angle between the vectors **x** and **w**.\n",
        "\n",
        "In this work, we seek to improve the interpretability of DNNs by promoting weight-input alignment during optimisation.\n",
        "\n",
        "To achieve this, we propose the ***B-cos transform***:\n",
        "\n",
        "`B-cos(x; w) = ||ŵ|| ||x|| |c(x, ŵ)|ᴮ × sgn (c(x, ŵ)).`\n",
        "\n",
        "Here, *B* is a hyperparameter, the hat-operator scales **ŵ** to unit norm, and `sgn` denotes the *sign* function.\n",
        "\n",
        "Note that this only introduces minor changes with respect to the first equation; e.g., for *B* = 1, the B-cos transform is equivalent to a linear transform with **ŵ**.\n",
        "\n",
        "These changes maintain an important property of the linear transform: similar to sequences of linear transforms, sequences of B-cos transforms can still be faithfully summarised by a single linear transform.\n",
        "\n",
        "---"
      ],
      "metadata": {
        "id": "Y7E10NWZOffz"
      }
    },
    {
      "cell_type": "markdown",
      "source": [
        "### B-cos Networks\n",
        "\n",
        "---\n",
        "\n",
        "The B-cos transform is designed as a *drop-in* replacement of the linear transform, i.e., it can be used in exactly the same way.\n",
        "\n",
        "For example, a conventional fully connected multi-layer neural network f(**x**; θ) of L layers, is represented by:\n",
        "\n",
        "`f(x; θ) = lL ◦ lL−1 ◦ ... ◦ l2 ◦ l1(x),`\n",
        "\n",
        "with lⱼ denoting layer j with parameters **w**ᵏⱼ for neuron k in layer j, and θ the collection of all model parameters.\n",
        "\n",
        "In such a model, each layer lⱼ typically computes:\n",
        "\n",
        "`lⱼ(aⱼ; Wⱼ) = φ(Wⱼ aⱼ),`\n",
        "\n",
        "with aⱼ the input to layer j, φ a non-linear activation function (e.g., ReLU), and the row k of Wⱼ given by the weight vector **w**ᵏⱼ of the k-th neuron in that layer.\n",
        "\n",
        "A corresponding **B-cos network** f with layers lⱼ can be formulated in exactly the same way, with the only difference being that every dot product (here between rows of Wⱼ and the input aⱼ) is replaced by the B-cos transform.\n",
        "\n",
        "In matrix form, this equates to:\n",
        "\n",
        "`lⱼ(aⱼ; Wⱼ) = |c(aⱼ; Ŵⱼ)|^(B-1) × (Ŵⱼ aⱼ)`,`\n",
        "\n",
        "Here, the power, absolute value, and `×` operators are applied element-wise, `c(aⱼ; Ŵⱼ)` computes the cosine similarity between input aⱼ and the rows of Ŵⱼ, and the hat operator scales the rows of Ŵⱼ to unit norm.\n",
        "\n",
        "Finally, note that for *B* > 1 the layer transform lⱼ is non-linear.\n",
        "As a result, a non-linearity φ is not required for a B-cos network to model non-linear relationships.\n",
        "\n",
        "---"
      ],
      "metadata": {
        "id": "nw9xRQH4OqMV"
      }
    },
    {
      "cell_type": "markdown",
      "source": [
        "### MaxOut To Increase Modelling Capacity\n",
        "\n",
        "---\n",
        "\n",
        "As discussed, a deep B-cos network with *B* > 1 does not require a non-linearity between subsequent layers to model non-linear relationships.\n",
        "This, of course, does not mean that it could not benefit from it.\n",
        "\n",
        "In this work, we specifically explore the option of combining the B-cos\n",
        "transform with the MaxOut operation.\n",
        "In particular, we model every neuron in a B-cos network by 2 B-cos transforms of which the maximal activation is forwarded:\n",
        "\n",
        "`MaxOut(x) = max{B-cos(x; wᵢ)} with i∈{1,2}`,\n",
        "\n",
        "We noticed that networks with the MaxOut operation were much easier to optimise with respect to the ReLU operation.\n",
        "\n",
        "---"
      ],
      "metadata": {
        "id": "gGhdq6giPuCS"
      }
    },
    {
      "cell_type": "markdown",
      "source": [
        "### Advanced B-cos Networks\n",
        "\n",
        "---\n",
        "\n",
        "To test the generality of this approach, we evaluate how integrating the B-cos transform into commonly used DNN architectures affects their classification performance and interpretability.\n",
        "\n",
        "In order to \"convert\" such models to B-cos networks we proceed as follows:\n",
        "\n",
        "*   First, every convolutional kernel / fully connected layer is replaced by the corresponding B-cos version with two MaxOut units.\n",
        "\n",
        "*   Secondly, any other non-linearities (e.g., ReLU, MaxPool, etc.), as well as any batch norm layers are removed to maintain the alignment pressure and to ensure that the model can be summarised via a single linear transform.\n",
        "\n",
        "---"
      ],
      "metadata": {
        "id": "mJNOC_aiO6bU"
      }
    },
    {
      "cell_type": "markdown",
      "source": [
        "### Models\n",
        "\n",
        "---\n",
        "\n",
        "For the experiments, we rely on the publicly available implementations of the VGG-11, ResNet-34, InceptionNet (v3), and DenseNet-121 model architectures. We adapt those architectures to B-cos networks as described before.\n",
        "\n",
        "---"
      ],
      "metadata": {
        "id": "eIosfpa0QN5b"
      }
    },
    {
      "cell_type": "markdown",
      "source": [
        "## An Example Of How To Use The Method\n",
        "\n",
        "---\n",
        "\n",
        "As I said, in order to \"convert\" DNN models to B-cos networks we need to:\n",
        "\n",
        "*   First, replace every convolutional kernel / fully connected layer with the corresponding B-cos version with two MaxOut units.\n",
        "\n",
        "*   Secondly, remove any other non-linearities (e.g., ReLU, MaxPool, etc.), as well as any batch norm layers.\n",
        "\n",
        "The following code shows an example of this method with the ResNet model.\n",
        "\n",
        "---"
      ],
      "metadata": {
        "id": "F2DXH7U1Sbmz"
      }
    },
    {
      "cell_type": "code",
      "source": [
        "import torch.nn as nn\n",
        "\n",
        "def conv3x3(in_planes: int, out_planes: int, stride: int = 1) -> BcosConv2d:\n",
        "    \"\"\"3x3 convolution with padding\"\"\"\n",
        "    return BcosConv2d(in_planes, out_planes, kernel_size=3, stride=stride, padding=1)\n",
        "\n",
        "\n",
        "def conv1x1(in_planes: int, out_planes: int, stride: int = 1) -> BcosConv2d:\n",
        "    \"\"\"1x1 convolution without padding\"\"\"\n",
        "    return BcosConv2d(in_planes, out_planes, kernel_size=1, stride=stride)\n",
        "\n",
        "\n",
        "class BasicBlock(nn.Module):\n",
        "    expansion = 1\n",
        "\n",
        "    def __init__(self, in_planes, planes, stride=1):\n",
        "        super(BasicBlock, self).__init__()\n",
        "\n",
        "        self.conv1 = conv3x3(in_planes, planes, stride)  # Instead of: self.conv1 = nn.Conv2d(in_planes, planes, kernel_size=3, stride=stride, padding=1, bias=False)\n",
        "        # self.bn1 = nn.BatchNorm2d(planes)\n",
        "        self.conv2 = conv3x3(planes, planes)  # Instead of: self.conv2 = nn.Conv2d(planes, planes, kernel_size=3, stride=1, padding=1, bias=False)\n",
        "        # self.bn2 = nn.BatchNorm2d(planes)\n",
        "\n",
        "        self.shortcut = nn.Sequential()\n",
        "        if stride != 1 or in_planes != self.expansion*planes:\n",
        "            self.shortcut = nn.Sequential(conv1x1(in_planes, self.expansion*planes, stride)  # Instead of: nn.Conv2d(in_planes, self.expansion*planes, kernel_size=1, stride=stride, bias=False)\n",
        "                                          # nn.BatchNorm2d(self.expansion*planes)\n",
        "                                          )\n",
        "\n",
        "    def forward(self, x):\n",
        "        out = self.conv1(x)  # Instead of: out = F.relu(self.bn1(self.conv1(x)))\n",
        "        out = self.conv2(out)  # Instead of: out = self.bn2(self.conv2(out))\n",
        "        out += self.shortcut(x)\n",
        "        # out = F.relu(out)\n",
        "        return out\n",
        "\n",
        "\n",
        "class Bottleneck(nn.Module):\n",
        "    expansion = 4\n",
        "\n",
        "    def __init__(self, in_planes, planes, stride=1):\n",
        "        super(Bottleneck, self).__init__()\n",
        "\n",
        "        self.conv1 = conv1x1(in_planes, planes)  # Instead of: self.conv1 = nn.Conv2d(in_planes, planes, kernel_size=1, bias=False)\n",
        "        # self.bn1 = nn.BatchNorm2d(planes)\n",
        "        self.conv2 = conv3x3(planes, planes, stride)  # Instead of: self.conv2 = nn.Conv2d(planes, planes, kernel_size=3, stride=stride, padding=1, bias=False)\n",
        "        # self.bn2 = nn.BatchNorm2d(planes)\n",
        "        self.conv3 = conv1x1(planes, planes * self.expansion)  # Instead of: self.conv3 = nn.Conv2d(planes, planes * self.expansion, kernel_size=1, bias=False)\n",
        "        # self.bn3 = nn.BatchNorm2d(self.expansion*planes)\n",
        "\n",
        "        self.shortcut = nn.Sequential()\n",
        "        if stride != 1 or in_planes != self.expansion*planes:\n",
        "            self.shortcut = nn.Sequential(conv1x1(in_planes, self.expansion*planes, stride)  # Instead of: nn.Conv2d(in_planes, self.expansion*planes, kernel_size=1, stride=stride, bias=False)\n",
        "                                          #  nn.BatchNorm2d(self.expansion*planes)\n",
        "                                          )\n",
        "\n",
        "    def forward(self, x):\n",
        "        out = self.conv1(x)  # out = F.relu(self.bn1(self.conv1(x)))\n",
        "        out = self.conv2(out)  # out = F.relu(self.bn2(self.conv2(out)))\n",
        "        out = self.conv3(out)  # out = self.bn3(self.conv3(out))\n",
        "        out += self.shortcut(x)\n",
        "        # out = F.relu(out)\n",
        "        return out\n",
        "\n",
        "\n",
        "class ResNet(nn.Module):\n",
        "\n",
        "    def __init__(self, block, num_blocks, num_classes=10):\n",
        "        super(ResNet, self).__init__()\n",
        "\n",
        "        self.in_planes = 64\n",
        "\n",
        "        self.conv1 = conv3x3(3, self.in_planes, stride=1)  # Instead of: self.conv1 = nn.Conv2d(3, self.in_planes, kernel_size=3, stride=1, padding=1, bias=False)\n",
        "        # self.bn1 = nn.BatchNorm2d(self.in_planes)\n",
        "\n",
        "        self.layer1 = self._make_layer(block, 64, num_blocks[0], stride=1)\n",
        "        self.layer2 = self._make_layer(block, 128, num_blocks[1], stride=2)\n",
        "        self.layer3 = self._make_layer(block, 256, num_blocks[2], stride=2)\n",
        "        self.layer4 = self._make_layer(block, 512, num_blocks[3], stride=2)\n",
        "\n",
        "        self.linear = BcosConv2d(512*block.expansion, num_classes)  # Instead of: self.linear = nn.Linear(512*block.expansion, num_classes)\n",
        "\n",
        "    def _make_layer(self, block, planes, num_blocks, stride):\n",
        "        strides = [stride] + [1]*(num_blocks-1)\n",
        "        layers = []\n",
        "        for stride in strides:\n",
        "            layers.append(block(self.in_planes, planes, stride))\n",
        "            self.in_planes = planes * block.expansion\n",
        "        return nn.Sequential(*layers)\n",
        "\n",
        "    def forward(self, x):\n",
        "\n",
        "        out = self.conv1(x)  # Instead of: out = F.relu(self.bn1(self.conv1(x)))\n",
        "\n",
        "        out = self.layer1(out)\n",
        "        out = self.layer2(out)\n",
        "        out = self.layer3(out)\n",
        "        out = self.layer4(out)\n",
        "\n",
        "        # out = F.avg_pool2d(out, 4)\n",
        "\n",
        "        out = self.linear(out)\n",
        "        out = out.view(out.size(0), -1)\n",
        "\n",
        "        return out"
      ],
      "metadata": {
        "id": "Jd6Ox85sUppm"
      },
      "execution_count": null,
      "outputs": []
    },
    {
      "cell_type": "markdown",
      "source": [
        "## Summary Of The Main Results\n",
        "\n",
        "---\n",
        "\n",
        "We evaluate the B-cos networks across all models to investigate which one provides the best explanation.\n",
        "\n",
        "This makes it possible to compare explanations between different models and to evaluate the explainability gain achieved by converting conventional models to B-cos networks.\n",
        "\n",
        "---"
      ],
      "metadata": {
        "id": "h4wbfyj1Tcmq"
      }
    },
    {
      "cell_type": "markdown",
      "source": [
        "### ResNet with CIFAR10"
      ],
      "metadata": {
        "id": "LRMVnk3nc9ps"
      }
    },
    {
      "cell_type": "code",
      "source": [
        "#@title\n",
        "from tabulate import tabulate\n",
        "\n",
        "print('\\n\\n CLASSIFICATION METRICS \\n')\n",
        "table = [[\"Epochs\", \"Accuracy\", \"F1-score\", \"Precision\", \"Recall\"], [5, 0.4467, 0.4336, 0.4747, 0.4467]]\n",
        "print(tabulate(table, tablefmt='fancy_grid'))\n",
        "print('\\n')"
      ],
      "metadata": {
        "colab": {
          "base_uri": "https://localhost:8080/"
        },
        "id": "iDTZWYcCrzy3",
        "outputId": "43c576d3-8f14-40ff-f06c-8ab132f5294c"
      },
      "execution_count": 3,
      "outputs": [
        {
          "output_type": "stream",
          "name": "stdout",
          "text": [
            "\n",
            "\n",
            " CLASSIFICATION METRICS \n",
            "\n",
            "╒════════╤══════════╤══════════╤═══════════╤════════╕\n",
            "│ Epochs │ Accuracy │ F1-score │ Precision │ Recall │\n",
            "├────────┼──────────┼──────────┼───────────┼────────┤\n",
            "│ 5      │ 0.4467   │ 0.4336   │ 0.4747    │ 0.4467 │\n",
            "╘════════╧══════════╧══════════╧═══════════╧════════╛\n",
            "\n",
            "\n"
          ]
        }
      ]
    },
    {
      "cell_type": "markdown",
      "source": [
        "![ResNet.jpg](data:image/jpeg;base64,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)"
      ],
      "metadata": {
        "id": "1dQzlFHd3XSW"
      }
    },
    {
      "cell_type": "markdown",
      "source": [
        "### VGG with CIFAR10"
      ],
      "metadata": {
        "id": "Ee7xSRO8nJzN"
      }
    },
    {
      "cell_type": "markdown",
      "source": [
        "I was not able to train the VGG model as the time taken for a single epoch was around 35 hours."
      ],
      "metadata": {
        "id": "7C6cwgdZq4Wh"
      }
    },
    {
      "cell_type": "markdown",
      "source": [
        "### DenseNet with CIFAR10"
      ],
      "metadata": {
        "id": "lfytMvVpe4Zi"
      }
    },
    {
      "cell_type": "code",
      "source": [
        "#@title\n",
        "from tabulate import tabulate\n",
        "\n",
        "print('\\n\\n CLASSIFICATION METRICS \\n')\n",
        "table = [[\"Epochs\", \"Accuracy\", \"F1-score\", \"Precision\", \"Recall\"], [5, 0.4064, 0.3812, 0.4317, 0.4064]]\n",
        "print(tabulate(table, tablefmt='fancy_grid'))\n",
        "print('\\n')"
      ],
      "metadata": {
        "colab": {
          "base_uri": "https://localhost:8080/"
        },
        "id": "6XHtgT1ttb-i",
        "outputId": "65a999f7-d82d-4281-d87d-3240dd54e3e2"
      },
      "execution_count": 5,
      "outputs": [
        {
          "output_type": "stream",
          "name": "stdout",
          "text": [
            "\n",
            "\n",
            " CLASSIFICATION METRICS \n",
            "\n",
            "╒════════╤══════════╤══════════╤═══════════╤════════╕\n",
            "│ Epochs │ Accuracy │ F1-score │ Precision │ Recall │\n",
            "├────────┼──────────┼──────────┼───────────┼────────┤\n",
            "│ 5      │ 0.4064   │ 0.3812   │ 0.4317    │ 0.4064 │\n",
            "╘════════╧══════════╧══════════╧═══════════╧════════╛\n",
            "\n",
            "\n"
          ]
        }
      ]
    },
    {
      "cell_type": "markdown",
      "source": [
        "![DenseNet.jpg](data:image/jpeg;base64,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)"
      ],
      "metadata": {
        "id": "7mN1f_2JnNz3"
      }
    },
    {
      "cell_type": "markdown",
      "source": [
        "### InceptionNet with CIFAR10"
      ],
      "metadata": {
        "id": "kCDeDyCNexqx"
      }
    },
    {
      "cell_type": "code",
      "source": [
        "#@title\n",
        "from tabulate import tabulate\n",
        "\n",
        "print('\\n\\n CLASSIFICATION METRICS \\n')\n",
        "table = [[\"Epochs\", \"Accuracy\", \"F1-score\", \"Precision\", \"Recall\"], [5, 0.3149, 0.2547, 0.2501, 0.3149]]\n",
        "print(tabulate(table, tablefmt='fancy_grid'))\n",
        "print('\\n')"
      ],
      "metadata": {
        "colab": {
          "base_uri": "https://localhost:8080/"
        },
        "id": "ocYRPK6etc6k",
        "outputId": "bbf52e90-48a1-4a6b-8ad7-82ebb461dc07"
      },
      "execution_count": 4,
      "outputs": [
        {
          "output_type": "stream",
          "name": "stdout",
          "text": [
            "\n",
            "\n",
            " CLASSIFICATION METRICS \n",
            "\n",
            "╒════════╤══════════╤══════════╤═══════════╤════════╕\n",
            "│ Epochs │ Accuracy │ F1-score │ Precision │ Recall │\n",
            "├────────┼──────────┼──────────┼───────────┼────────┤\n",
            "│ 5      │ 0.3149   │ 0.2547   │ 0.2501    │ 0.3149 │\n",
            "╘════════╧══════════╧══════════╧═══════════╧════════╛\n",
            "\n",
            "\n"
          ]
        }
      ]
    },
    {
      "cell_type": "markdown",
      "source": [
        "![InceptioNet.jpg](data:image/jpeg;base64,/9j/4AAQSkZJRgABAQEAYABgAAD/2wBDAAYEBQYFBAYGBQYHBwYIChAKCgkJChQODwwQFxQYGBcUFhYaHSUfGhsjHBYWICwgIyYnKSopGR8tMC0oMCUoKSj/2wBDAQcHBwoIChMKChMoGhYaKCgoKCgoKCgoKCgoKCgoKCgoKCgoKCgoKCgoKCgoKCgoKCgoKCgoKCgoKCgoKCgoKCj/wAARCACMAVgDASIAAhEBAxEB/8QAHwAAAQUBAQEBAQEAAAAAAAAAAAECAwQFBgcICQoL/8QAtRAAAgEDAwIEAwUFBAQAAAF9AQIDAAQRBRIhMUEGE1FhByJxFDKBkaEII0KxwRVS0fAkM2JyggkKFhcYGRolJicoKSo0NTY3ODk6Q0RFRkdISUpTVFVWV1hZWmNkZWZnaGlqc3R1dnd4eXqDhIWGh4iJipKTlJWWl5iZmqKjpKWmp6ipqrKztLW2t7i5usLDxMXGx8jJytLT1NXW19jZ2uHi4+Tl5ufo6erx8vP09fb3+Pn6/8QAHwEAAwEBAQEBAQEBAQAAAAAAAAECAwQFBgcICQoL/8QAtREAAgECBAQDBAcFBAQAAQJ3AAECAxEEBSExBhJBUQdhcRMiMoEIFEKRobHBCSMzUvAVYnLRChYkNOEl8RcYGRomJygpKjU2Nzg5OkNERUZHSElKU1RVVldYWVpjZGVmZ2hpanN0dXZ3eHl6goOEhYaHiImKkpOUlZaXmJmaoqOkpaanqKmqsrO0tba3uLm6wsPExcbHyMnK0tPU1dbX2Nna4uPk5ebn6Onq8vP09fb3+Pn6/9oADAMBAAIRAxEAPwD5Z6cGgH5aQgmkAOelHMxppP3RzAYFKpz3xik8s9g35UhBHGDU7jUZJDm5PJpAdvSgI3ofyp6qR/C35VXxfEwtNO6Iyec0h5NSGN+oU/lTcbevBobj0CUWtWhY0Z3CopYk4UAZJP0rTPhzWv8AoEalu7/6K/8AhS+Eiw8VaR6/bIef+Biv02UYGcnHYelBNkfmL/wjmuf9AbUv/AV/8KP+Eb1v/oD6l/4Cv/hX6ecUcU7BdH5if8I5rn/QG1L/AMBX/wAKP+Ec1v8A6A+pf+Ar/wCFfp5SYpDR+YZ8Oa5/0BtS/wDAV/8AClHhzW/+gPqX/gK/+Ffp5igjigTPzCvNG1KztzNd2F5BDkKXlgZBk9OSKotxhf1r7f8A2tVP/Cnrnn/l9gwfxNfEBGFGe1FubVFLm3GnmkK4qxDBJOwEaE/QVuWuiyC3MstvIQBnOw4rOVZLSTOapiIU9znduMZoIfHK4ruPB9nZagsrT2MTeWepzxxXR3Wg2VzbI9pp8bYxnaCa5KuY06cuSSOWvmMaEkpRfqeRBSecU5lJPFeu23hW2dedLQf8BNUdR8OQQ5C6dGPwNRDM6M5cqZhHPKEm4I8wIGPvHNMPHJ5rota0nylzHEqew61z0iFCQ2QR2ruhNT2PTp1VUV0xlLijFGa02NvkFFO20nKnGKLt6MHFrUTNAPFGCegp2D6GnytbBdS3GUGlIxSYpS3BS0FFIPvUtJ3pvYlEhyMnrSKC3PanR/MccgdcV9O/su+BfDfibw5qlzr+j2188U6KhlUngrn1q1zuFl0K5Xa9z5jK8dTntxTeRgtzmvvvVPg74Jkt3W18O2MUhHDKp4/WvjD4maTBoPjjVtNgjVIreYxqq9BwK0hR5480pHNGvzS5bHKHknHTND5GAfSvS/gy/hldTeLxRp9tdQyH5TNn5ePrWn8cIvCNqyW3hiytoJerPCOOD65rX6lNLnvsZSx0PbqhZ3PIFxu5opo5ork9m5anXJK5NGpMgVRuz3rrNP8ADMa2i3V3IQOuOK53SFV9VtI2YqjyqrH0BIrtPig0Wlan9h0+6aWIZGRjH6VlUpTeiZ7WWVsHR5qteF30RGs2iLtjWJWkzggjiqet2iCaMWtlFt9Uyc1ytqjz3MUaY8yRgoJOOSa+sPBHwu0ibwzpT6pq9va3fk/vgkqHJz0OTULBVFrc9Olm9DFxdKtT5ezSufOlvc2ECvDd2kSzKwHGTmuit9OsJ4o5Uto2BXJBpnxw8K23hTxZ/oNxFc211uli2OG2gHHOOldX8A/D2l+LtPv4tZ1drG5hlAhHy4Kbcnk1FfA1JRvBmuV5xhqFaVLFwvHo7anPLpNltJ+zxsp5Ge1cp400EWK211bgeXOm5lX+A5xivqWP4N6FNJiHxG7/AOyhjP8AWuM+OnwxtvB/w7uNVg1Ce4Y3MSBXVQBuJHauLDUcTTn72x25xj8qxWGdOnpLpofM1vLJbXMUkTlJYmDo69VYHIP516d4e+LXxHutYt4LfXNRvpWYKIc5Dc9TgdPevL9wGNo7Yaun+HPi658EeIxrVlClw8cTwhZCVHzDrxXrxR8BJdj7q0dNcvvDmnT67qH9mXjRgzCKQMN2emTXR25Fhp++e8e5UDJlOCT+VfCt98SPGXjHUriI6xcw25DTraq4KRhRnAyKm8N/Frxb51jps+q3Etq0yIyu/G3cAR0962UTnkpLU+7LXUILmxW6icGArv3HjArzG6+PXhCy8QXGk3dxcCaOcQK6QlkbOOd2cY5rudJtba48NiGGJYobiEqQvQAgivm7XYvAFhe6v4a/4R6G41m2ZohcyQsM4Xlt2cZ5FTKKREazPqu0vbe8gWW1njnjPR42DA/lUn2mJpfKEqGUdUDDP5V8JWuoePvCem7NB1y4i0xRhEjlGQPcY4rnE+JPjSO+kvE8R36XxJBcMOQevOKwcjohO59WftbN/wAWeuOAc3kHX6mvkHwj4e/tmY+YXKDrtGean8RfELxX4k01tN1/XLu9tCwcpKwIyOnau4+BMZaK6kblVbBH4Vx5hWlQw7lTOHNsTPD4WVSD1R0Xh/wbp2nWwnliyY4y7jb6DNZV942sijRWlhamzeNlw7FSM+1enTRl7WaJCI1kUox7AEYr5+8VeCbq01iaO2lie2DHYQ4r5bK5QxlSTxEtUeVwjCpmldyrUnNrbexNot1a2MV39jlJEhyEx14ruvgvePe/2is4CBZOAxx/DXnOieHJrS58yUgnuM11tpO2n+aLVhEZOXwcCvRzGFOpF0ou9+p+v47hetm+AVKpFUrHpWq6pbac7meVQvbyjuzXmviDWNV1KeT7EEih/hcvgn8KNPQ6hdCG3eOQnrlxha6i8j8N+FtKmk1m4jv7iWJhHFFiUKxBA+6fWunKcpjOHvL4ep8fX4ZyTIXGNT97UfRHh2rT363bRSzvLLnkqc81j3G8zN53Mh+9u9a1pPtpZp0j8gs2fT+dZV27yXUrTA+Yxyd1ezBKOiMp0fZP4bFalwKMU6MF3VVUlmOAAMkmtNWSrPdj4ycdAccDJ6VteGtAvNf1OOytE8yaRslvQd66/wACfB3xV4wP2izsVgtYZVSU3TGFyDySAw54r6a8B/A+z8JXJvLfUZzcsCCuxcLkYODW0OVy/enNiZ1IwfsdWcj4T+FXhTTrW2sdUtYr7VCMyblz068g12mrfDLwVZ6VPcDwvYEwxNKx2nooJPf2rQl8AXdlrcmrWGpTyXDZxE4Crz71fvZPEY8OapFqdnp8Ia3kRZDc9coRzmu2t7NRXsmeLhY4mc37Zs+GPHN9o+o6y8vh+xjs7U5IjRSAPzrnVIBGPmyOQeMVs21hZWusXVnrd08CxI4ElqBKC4HA+hPesjanknuM9T1FefUWtz6CC0IxgDJ5NIvXpQB82DW3onhvVtWkQWVhcyK33WETbT+OKl7GsI3JPCvh3UvFGsx6XpESyXbKSAWwMDrzX2x8B/h1feAvD/lajqEj3Vxh5rYFWjjYDGFI6iuF+E/h/SfhPpNtq3iKyvZdX1ABka2tWm8gH5SuR0HfmvddM12y1C3SeCX5WXfiT5WA9x2rZqXJpsYTahLlRdvLu3so5JbmRIo1BLFyAD+dfEnxjsfD+p+PNSvrPU7mVr2YsVWMFVY4AAPpXe/tNfEUSMmi6ZcMVbmTHQEHoK+c4bySJo9gKhWDYHcjvXbg6eFStWlqdPJOnHSOp6P4G+Dmoa7qEi3t5bWdnGCS/nqJTgZ4U9RWR8RvCFj4akkWy1F77Y2194Uc/hVG38QatNqi3wmn3qjRK2Puq3UU3XltzpMs8988t67giIgFcd+a76f1eUasYy2OOthq8YwrS0v0OLAFFJjPNFfPxnyqx12b1sXNKRX1K1R2xG8qqx9ASK7X4naHa2F4n9mztPCAeSBxz7Vwcb7JlZeo5rr9P1+zuLMwagu1ugYDJqJ1FFaQuell9CjWvTq1eXsctZS/Z7mCRxkI6tg+gNfXPgzw14V17QdL1G6uooJbuLzHQlR36HJr5th0PTroNOt2QisMK2BxTr/XH0x1gtiJYUGEyegrOONd7RVz0cNga2Ai6tSryx8rM3Pj1/YkHjF7HQWLCzLRSYXCE5B4PcVt/ASbwtZx31x4rgeWQuBDGIi67dvPOfWvL5DHqN4bu8fyUk+bCfMa6nS9R021t0iSRg44+7w3uayr4qpTV4LUnLsFSxeJlVxFS0e/Vn0lp/jL4caZMJLKykhlHIZLc5/nXB/tA/E628TeD20WxhBgklSXzJAVf5T6V5/9stlRpPMjCIPlO4ZH4VwfiTVv7RuwcnagIDdzXPh8RVru8kejnGBwGDoOSm5yexhdTgdhTufLGCdp5P1pMkYK967/AOHnirw7osD23iHwvp+qLI4PmzbiyjvjBr0onxM1y7CfBbRJ9e8Yy2VtgyPZTldxwCdtWfDvwy8QTeIpIZo4oV0+4U3Ekkm1QFwxwTwTjpX0d8JNR8BardtqHgzQ7axuYFMcsxjaPbkZIBJ9K77UrbQLqxvZdRFsLBn3zeYwCSPjg5z19K6IrTU86riJqVkiHwDq6alsg0mRZtMs0MUkjHDluoytfJHxb1y70j4yeKjETIn2l0VCeBlRzXsvh3x94B+Hes6uYNVvnhvp/O+zxWwaNMDGAQa8N+I2p+GfEnjrVNZsr+9SK+nMpzBgqvANKpFNmtBNR1MDS9f1IynfeyeW3+sUn731qnrMlldXxFuogUn7qDjPaugubHwClqj2mv6xJcHG9XswAPXBzS3DeBYNP8u1uby5uCOXlttpB/OsI0CowtK6OGuLWWCVlcZwcFhyPzru/hxr17o9vcQ2kCyGRwSWJAHFcfcXymF7aFi0JYEbhjpXpPwf020urS6lvpysaSL8hxg8Vw5nyQw75tTSdXCQhzY+N4djfbUdcuEdvNunikOfLRSw/lUem6BqOo3Qjt7WXeeolQoP5V3WpfEHw34eto7aGOOJ1X71uN+cfjXHXnxp1ea4kj0mwDxsCqzSFlPPevkaUMXNXo0kl3eh9VlfFNOjH2WV4Wy7k+seCtX0qynuZ/s6iIFm3SgDgZwD3rxfUPEF3eFwjFI5DkoDXa6vqHinXYjb65q07WbnIi3hlHp2rnNR0XT9Nh3pc+ZOpGQccV72CjGjpW96XkeniKmcYulz1nyR9SLQ9O1aBPOtLh7dJhhip5IPByK0jp2naNC0lywknJDKepp+geIIpVMFyQgVSQ+eeKwL5JdY1hxYxvKpOBhTXXzVZS992iZVpZblmDWIpJTqPq+gmoaxNfXsectCrhtnbg1n69MLjVbmZU2KzZC+leleFfALRRrPeRkuSPlxmuH8dWy2niK/hRQoWXGKrD4mlVqOFPofBrOY5jipJO9jBjRpDhFLsRnAGa9R/Z78IL4i+I1lBqcDpbojXClk43JgjrXNfC22iuvFaxzrlDC7YAz2r1zWLzUfC+mxavoMt3FNARGfLQ8qTz26V71HBSr0nUvsayqezlZq57h8XPiDqXgea0/szRpNTWTlyI3bYM4ONo9KoaL8btLurUSajpOtQSlgqiLT5WBz+Fct4U/aS8ODTbaLxC92LhY8SskDPuak179pbw7b6ZM+gQS3F4jhYY5omRSvfJ7Vg4NaMo9yGrxSeHZNYhjl8v7O9wqSoVbCgnBHUdK+KPip8b9e8ZyLa2v/ABLdPVSrRwucTc9WB79q2fGX7SHiPxDoU+mWdjb6W8337i3lYsF7rzxgg14SX3ZdyWcnv3rN6FKIKQGJ7dK1vC+nRalqUkM52qsEkg+oGRWOwxg+tb3g++trHVJZb/JQ20qKAM/MV4pX9yw+h6f+zx8PdH8Wveaj4huESzsZRGUl2hGJGeSTX13okHh/R7CNdDjtYrONcJ9nYMij65r88dL1vUrfS5tHtLp47S7lWSWPOFZhwCa62x1vxX4Zhj06DWhBp8pG6GCdWUjpzWnJHk5mbYeKlNRZ94prFhcWMszSoLdBhmJAU8dj3rw/x18QNJtJbi28PWUfmyZEkwBBJ6fyrnNS8caVL8M7bRLa6P8AaKlDIDwowTnBryLVPEMFpJshfzGzg+leZisRVi+SifY5TlWBoyliMY9IvRFjWtMi1G7S4uWy3Ug1C9np8AOLaNyO5FRPrVtLCsjtjjoOaxbzW4t7GFifbFcSp4ierZ7uNxWV4e9WEU2zZfUAtvJFAiRpj1xXC3vzTN0NWbrUXkBOwKD6VRKMU38Y+tephaHItz4nN8yWK0iiHFFGaK2e54OouM0oHrQPlNOySM4ok31KSfNohFkdehprEufmpQcn0pduG60vUblNrV6CA7eAacuT3xTG60mTVR5bahd20ZMrtnBY0yVtzU0A4+tJgg9MGkkrlOrJxsPQcjBxzg0+dPLlIAwoOM0WsLXF1DEp+eR1QH6nFdH4m8LajoM4W4AmjBz8p3Zx9KF5GMn3IPDfi3V/DweLS7yWO2kcPJEDhXx6/hXT+MPinqXifwyugtZwWtmrK7CNydxU5HWuP1HU7a409LePSra3lGCZkJ3H61nQozf6tGcn+EDIrRSdieSN7sYDuJGSOeBW4nh2SG0gvL6eAW0y7h5cgZx/wGqdno2p3lxsis7jex6+W2PzxXdaD8IfEWqsvnRLFGvGQ3P8qNQclE4S+h0uOPNjd3Ejejx7azk57ZJr6O0P9ncNKHv7yUjuu1TXovh/4DeHoGDT2UU+O8i4NGqJdRdD4ze1mSPzXhkWLpvKkDNaehajcQ20lnFM0UcrAsQfwr6j/aO8G6R4a+Ecsum2kaMLqFQwXB5Jr5Wt7MyaFc3RwAkqr781lWhFxsaQlFq9ZXXY6m207TLWDzZXSf8A2mI3flTbvxLbWkYjs13gdmGMVxOW28OxNT2Om3uoyqlrbTTEkDKoSB+VcjwkZK85XPo3xEqNH2eFgoGpd+Ib26/1bFF9AaypxPKwaeNyZOVOCc/SvZ/APwfkZkuvEB2RZyIlw276133iHw54aSCFIdLWMWjKEeGIs2QcgYrnnjKWHmoqNz5DHcTSrStOXMj5XNu6TCNwY33BSrjaVNfRPwy8K22kaHDdSMkl5dKJN6kHaOhGRXlvxJ0e4m8R3N/HbShbhy5XYflrtPhcNbfRmt90iIpCxluNq46dKWYOWKpJ0tPI8TPq31jA/u52PVk2DBBBFfMfxSwfHGqbennH+lfRNvbTWUCiaRWOP7wr5x+JL7/Gepn/AKbH+lZZXhZUG5SW54/B8OXETs7qx2P7L+nQar8VoLW7UNGbSZsEZ6AV9h+ILLQPD/h26lv7NJbZI2yuwnIweK+Sf2R+fjHbnt9in/kK+1NZ0+11azezvYllhkGGUjINe7Gc+XlTP0CUW5NxPi5vG3w71C8ntZvBmnWFichLyBHaUccHaTisltH+EcrM3/CU+IoyTnaumqQP1r6D8Vfs3+F9XG7TZn0xl6i3jU/zNefa5+zFe2yl9D1N7hsY/fFEzV890K1jwXxXbeHra+2eGNQvb61/v3UAib8hWGq7zx+vFerX3wF8aWr7GhsMj0uh/hVFfg34sEmx7e0POCRODipabHc82HXHX60oGDz+letr8GL63jZ9QuFjwM4Dqa4DxFo/9j3rwo4k25ByRWcuxfLpcyojH9lkDj59wxUAyK19H0p9QtpXXqrAZqG80i6t5CrRPgHsDXoPBzlSTiYKrGMrXIYVLISX/WoVG7O7mlNvMp/1cg+qmlWCcDARufauenR5dHHU3q1uaKVxscu04Kg01/vfKoAq3HYSFNxV89eBQLWR+Qp/KuiOVVp6paEOvHl31KZZm68qOAPSti4S1uPD0c0aiO4tysbAfx571VWzcqzD+E8iorlNsYJPB5UD0roqZdKlG7IU7sp4opCaK8eSs7HQpKxct7K6uwDbW00wU7SY0Lfyq3LouqoRnTb1R2zAwx+le4/sz200+ga01vDC5S4T9674ZPl7V66095dNFGym4EaHJk4En+2T6jtXLUruMrGiw8rKdz4u/sTVOQ2m3uf+vd/8KQaHqrEY02+PHH+jv/hX2dDLcLdqZJpmXym5xmr9hcO0VoFllz5Dc7e9J4hpbClh5JOVz4i/sLVRn/iWX+P+vd/8KP7C1PAI06+wRk/6O/8AhX3FNZ6n9nhPnn95GWPzCo4bTUI9PWWW4B+XGGcDIqXikSqUpR3PiRNH1Lbgaddt3U+S3T8qjk0rU/47C6B67jCwz+lfbtj8sKPMtsCqFUCyZIz2+lYGvC6OlzG6htUIkXaYZd5Qegq4YjmMNYPfc+PY1uLC8tpJYJEcMHCMpBYg16VdeNdTu4wsvhTzd4z80cnT246UvxSVD4s8N5LfOV3Njn/WCvoiGzZYxNBe7mT9zbxyMF/dN94n0I9K2lVdPYVSF1zHy81/5uG/4QSA9yfLl+arun+IGs7gSQeAYOfmCiOX86+mI4by11ARQNazwpGyJ5swXIPc+9Vb6W8tZbLy2hjdLZ1/dyAhh3z70QxNSeyJpL2uh4xp/wAV9ctP9R4KT1ACS/4Vt2vx38TwKBH4KT1B2zc/pXoVjcXhktmSdVzbuwBcDgdR9antLq+umtwk6Iht3YBnA4HY+9bSc0aLDc25wkP7Q3ipWG3wPEzkZ3ATEn36VbX9ozxiVyvgdSMdds2P5V1+kz6jLd2nlzrEI7dygDjlfQ+ma3YrnVTp29rlUgkXzm2SA+UR0jHsa5K2JlF2aG6MYdT5++KPxl8Q+PPC8mhaj4ZSwhMqTNIgkLDac9CK8y0e6uDpd3Z22kvqEcrhzII2YoQPavoLxRdNfW2o3BUb3idimflHynoa5D9njUDaaDrGJJELTKF2jp8tbN6XIUefVnlOm6ffwS+Y+g3M65yVeB8fTpXpHh7x5qGgRqNM8FJAcc7I5fm9zxXsGn6pqE5SAXbosKHeScb8c5+taNjO8zxzQ3M7I0ZyHXBX3HqKxkznrYaFb3Z7HlK/GnxGpO7wYHPbKS9PypsXxl8QR+Zs8DRL5h3E7Zuv5V7TDcRpAol1C6eRRncUGCO/NW7G4t9RmWOGWU7lMm4rgADtWMn/AHDieCwtL/l1ofO2ofEzWtRYtP4Oznv5cv8AhUNr8RdfTMFt4cZAP4Qkn+FfRbXE5uZFiiHkBwPwqeL7HFdTz+U4bdyQhrD6xy6chz1MFhqlkqV2z5lvvH+v4V5vD8iDHGY5B/SvNdfmutQ1KW8u4GhluG3hCD+ma+yvGl7aXekjyTIfLZVBZMZGa+dPioqjxXoBjQAErx6/OK76M7q56WAwVHCpuNPlMj4W6/rfgLxNHr9hoc97IkLxGOSJwvzDrkCvXv8AhpjxSpDf8IdbAY6bpf8ACuut7m4tdJn8m4kG+VU8v+EZ4xn0rOltJUuJlkjWUxyAMFO5R9CKtT5nY6VVjrqYf/DSvirqvgy2G8busvP6VE/7SXitkP8AxSMAjJ4IMuB+ldfNGs1s620Uu4EYbYR5Y/uj61DDb3H2N7TyF3Md4GeuO59D7V1QgugKXNuee6h8cvE92WY+F0Tnll8zH54qsvxp8RquxPDCb+u5RIc/pXpyxJHaLDOZVh25lG3+PtQlm0clk8RiSNoWZSHGQueQR2PtWrVWK0NY8idrnimsfEXxRqlws0mkTqhPMYR9ufyrhfER1HUb+a5m064hbOXURNgfmK+qbvVWaOKO2tIRFkfPuIJOeGx61z3iVj9l1HfI5byn3MRy52nk1yfvJ6s66tJUo6O54F4V1G/sbaZLLTHvEdwzFUZtpHbiugl17WHVjJ4cmYschjDJ8vt0ruf2abhhpGtQ7vKXzQ5cdiE6V7Zock2oWYeK5WRVXLiVwvzdqtZniML7sDyJ4WFaTconyj/aGpvkt4blkz0zDJx+lQTXOq/Jjw1Ou0Y4gk6flX1zHdvGyqTHlhukEbbvLYdl9RT11RHSQm8lMZOXdwAwP90D0NNZninqYqkl9g+Q/t2rYxH4cmTI4xFJwPyqoJdWztTQrgbvSF/8K+yHvopJIEhkjVZomk3bgChHRfoatWjPcNaPEltvSBvMXzPut2x6j3oedYymDUF9k+KHh1bbIo0e5Dk/MfJfI9ulZM1hqOxg2nXK88kxNx7dK+5BczeRPM9vbB/NVZT5n3ie49R71zHicq63QihiRElAkweWbsR6j3pRznF4hcszekp/ynxpPazW+3z4pYywzh1Ior0T41sV1TT8MQGiY4/4FRWfvPVnVqd3+zZBeNousG0dET7SiupfCnK17PJaXUDNbLebUcF0G4bQo7V4x+zRcQxeH9bjny2+4XapHy7tnBzXsrJCLS2+2gMYYis2ejSdiPWuKorzsddKcZNQI4ReJbmItHl1/dfPwE7/AI+1WdGt7uO28xpQ/lERRxluqnqT6YpbNrMxW7yxSFGiJwUOQ3Y49Peqcctz5zx2YiNzgmRt/wAu3vz9K6FR5kdFqbvTbNeU3dujqZoZQGCqhkHAqA2t9dzCBFgkVegkk2gL3xVPS42DSSyafBNFI21JWY7ue9XZ5xBeR2TpAXjiYGQPkZHYn3rnrYXlMJezhGTT2KOqaVFp9lcTOluGMq+RtfJ8vvWRqtxp8nh65S0tRFcCZC0iqefxq+9rcXMQuL6C3FuoxGofLL6DHp6mszWbtk0s2y2ccPzAllJxkf3fUe9TSpWZ5coxcorseD/FRtninw68btu4ODxtPmCvb1tjdwB5JUE0i+azlhnivFPikqv4u8OgrksVLD1/eCvc9Q+wGGOGOx8rY6ozlCCvNdzipbnVF390q6bbTX8MscaW5Zv3hmmk2MoA5A9aktYERds37zcpKMeuPX61cudPsooJigacq4SNSv3s/wAX4Ves/D949vBmWHaUILGQBt3YYr0MOoRWqLcVQ1KUEcFvbxSTWsMw27Fdj8xz/ER6iq9okME8oaEXG0FFLjAII+9n1Fb83he5jtYomkgL8CTdKBtbsB6iprjSZdOsjFMkbRAjzH3ZZT6KO4rqfJIf1jDwV7Gdp9vI8lnHHa2S5tnxI0uC/u3ofatewSC1tbezkigkEsRkuFLcM46fWqFtpe8tLYW0VzblSXFwdjKfYetP0xrR1aG8t41ZVIhY/e2+h9D7V5WMpRvoQsXQnqmcB4tEbLqqwRRxQBH/AHSH5R8vauL/AGe9PnvtJ1j7O8YSOUMQ7hTwueBXZeJ1VI9USOPEYjfHHI+WuK/Z7mt003WPP3ZMo2uq5b7n8qz5dDOt7y5onqOm2cpmWV0SWSWFnCOcKRjkk+o7CtGxt5X+w+VeEs1q7YYgeWvdf/rU/QzBOsEduzzXAgbfE64QH1zWhHZCCfTy1jbsot2kucscM4PBb3xU8vY5KU3WlYr2ui399awC2mi8ogbAZAG2d8jsfam21veaLrsllaOtxHIj4WVtqjjGT6EV0lrc2qQW19Z6dax/ahuADHOScdKwdYdE8SM91viZlZJFRcrvPQ5qoKctzqqtq3LH3URLqV7YoWcxv9mPkSpv4cn+L3xU7308mnzXSysLRSI/l5LE9MioY9BzZ3P2+ZVjSZVR0YMzD3HalksUtbeRNOuy8fmqrwuQqg+1c9ejLcdHEU4JqEfeZS8SXAj0DT7WSNDNIgZefugHpXgXxTVh4s0NJAowygEHtvFfQXiHRprXSLu8uTFJJ56rAA4JRT1HtXz/APFJc+LvDolUdVzt5z+8FGHj7lxt3SvI99sbS3bTcNLcSIzAndHxu7Af7Pqai2SWenahKoSJluUDpCdyJ7A960m1G3h0U2kMlx57OvkLJHtAj7r+NVdP0661GK9tIFWC38wPJEp+UsBwa0wsbz1OerCjGSKdvfT/AGe7mW+uIopJQyKF744q8ttc22mjUp7sG6mkXCBgWkzxlh1Fa0GmQJoObqKBpo5EVBE2/d9fSnWyWh+1NeWFql1DMqBw2eT2B7ivep+zfwmc5qOiMeQ3EsWoRX0EbF7hTuDZw3YUf8Iw0lxlmhiAQtLGXAww6L+NaWoX8UM0sctvEh80SERndkjvWNqGqJNcXFwIhJLNMsgLdc+tFZSSuhwpOp1IU0fMoN6fs6t88aQ/Oy47Edq5jxUhWHUvmLuY32luDjaa74IshGqCSRZIjsuXVclnPQD1BHU1w3jKbzxqsogVC8bkD+4NvQV4vPOTsjvpxSW9zz34DJLNo+rRI7onnKzADg4WvW7eBY7BG097ouw/fI0WAPcevFee/sxpE2may1wZGUSgCILlSdnBNe26VJnyfNmmTahUpGu5R7Z9KiTs/eLjTnvEw7aS0t4oNvmRSmMqrxJuZ8929KW2Qtayl47aeWA7XWSTG/3966FNMWWS5+xLDGzZdpN2HUAcqo7g1y9zo0ou4TGsKmaMyKQ/IUdRXoYWEJ7ke9LQal/GcRxaJZt5rD53ZhitC8t3023km3xQXGdqrE4I2HqM0LDhLUiBpIVjKMSp5c/dNWtX01Ro8Qkgja7VlLljwcHkZq8Rh6fQzlhZSd1Iy5bbVbiwgkQRrbuQIQj52Anpj0qprlpfwWrpfwRo1u4jaZG3HPpXQWeoNZIJVtrZI9hKQK/yD3/CsrxDq0+oaXH5kLRI+GkKg4duxry5KdOVjVxxS+JHzt8cP+Qppn/XBv8A0Kij44D/AImmmf8AXBv/AEKiuhaq5Dv1O1/Z/jD+Cddc/Ki3sS+YOobbxXtGkx2klkE1G4muJUYERsmRn29R714z+zwUk8I67aTyzLbvdRuRGu7LBeK9et/slnpkTzXVwb0JiNhHlVXuu73rKEOaRUVOlPmOrurd5LaKZpIYh5Z2sJBwP7n0NYCWV3aKZ4bOwSORCQiT5GKovq+nXFjBayl/9WfMGzhH7KvqPeqttqmyGK2FrEBGNrNk5Ne9hMLzLQ5KznOdzp/DxZ7ENFI0iqQnkH7iZ96nms7eK7eD+zLRyfnZmYgsw6Eeo96ydL1mGGKe3WNLOP77GE53sBwD7HpT49dudRjjmFnZJLHGYw5mwUB7Cs8VhW76GMYVKevNuWL6DUbh126bp8DeWwGyft3Ncr4jgvo9PsRdbDFbp5SbXyCCatF9RnhkkN2gkiYQr+8HKt1qDVVuI9ElhlmjlEEipGd4OVryJUuRm6p1G+W54b8SMnx14Z/hxKmMf9dBXv8A4gJvtSvreC5kJ8zdIso2LkD1rwP4jso8ceFmH3RIhI9P3or3vWwlz4kvhCqyrNNuXzDtVRxyDWd3zo6OScvIW2lubGbTRJbI2bdo4iCTtUnBreuoobDToZ5orabyyE3I+4lieOlUYYbiK4j8u4gujEhjKyyhVUHqAe4q9c2UA04R2lrZozurzRxyZCkdh6jFepRT5YnPV54q24+3Et/J9oks7NoYzmQmX7rdRip49VtmW7mvU861WZUQkZwx6Vn3dvLFb/6DHZx2zsC4WXqferFmEFvNDNaWYhVwTGkm7cR3rqnBWucFTFQhDkcdCY3YuLia302GJbneGkldtq8dTu6ZrNutLil1GZ7u4xIzZBUgiU/3ifWpL68iis5mtbOGS3eVRJG5Ibd2461nKbu6uDMllCsNmwiEQY8seQa86u0mXhkqcF7mhxXi9Ht21QSyOWEcik45+73riv2c7aNtK1qeV2SBJQu9Bl8lOBj09TXceNmmaXV3ukWO5kSRmjU5UfL61x/7O5ZvC2tw2qRrO11GTMzYIXbyB9a5pyTirnoUqcnD3j1e1gGn2NpPaSMk00RkYp1XHYe1Ml1ae7i8qLKeYN0rHjzD6+9FrZ31tdwlGSVPLIhBfpH3z6Vow6PLcK0jGKKBD+62uPl9APau3Cxoc6uYQlSoyuyhJdtFa2ccP7uZMLER1K55z6VtWmm6pd6k8t2kVzEwOEkfAB7H6iiKzsbZEk1N1a5ciTC4YIR2B9K0ZNbsmtp5YrmWJ84cKvVuwHqD616E43+GJnXxknLlp7HOaq81o0ti0cS/vVDTK+ST/hSf2XJA8qSsolmkEsSo2QQO+aiu5ZbtftD2lqmFIZWkwc/SoLL7fLDDM0sKxQMFDGQbkGc7QPQ1z4mh7u5r7aEI3lua3iiAJ4dBhZWnchrhmODu9/wr5y+I4Evi/wAN+WzoS6g8YKnzB09a978WX0UtpMtqCUmkWSd2GCHHTHqPevB/ia7L4t8OGRiWDLgjnP7wc/WvFjDlQ6M+am9D6Gkht2mmtru5mmMZwtzOu1lbsB2wfWobPVrizV7VhFHKZF8ySJ93mJ/Fn8KqNcfaLiaW/Z7yNQRHHcDb24P1FQaNCks3mXMUMcTAghWzye9dWCpKTNVTTgm2dzYpCyy/2ZZW0SSSAxuW2lo+9M1ZrCAy2psoJ5Q29ASegrM02M217E0s/m2MMbRRxkgncfu8eme9V7dXbXJZb1hEwbbtjO4MD6e1erSjCL1PNm4qd73sbOnnTriFpZrCMXLoWHBwoxyAaz/tOmfZ/wBzpMDlfk80A5BP9KnvLW6eeYWcqLBu3JEjghVH8P0qMQXdnZyy2cNuTOPMktRJ8i8c47kVy4qtBEwqLnsluVH1ER2sdpbRIPLdRceWc/Nn+H1GO9cP42cS3OsMu5AUkOGGCPlrrdBjkuJPtdrbwRKrjeFflfYeorl/iHL515rcpjGGVyueoG2vJpu9VndhYON7nG/s0pK+j6z5Nw0RaUA8gZOyvedDsL2PT4UheBn8o+aPNHWvnb4AyWy+H9WEtzOlz9oTZGiZUrt5JNe228V3Dp8VzbTxIzREKBIMuh65HalGF5HdKW1i+uj3j3q7b2FMRsFkSVSU/wBkexp0Wi6o1uqtZ6fJKEO2bz8kjua5GC8VGzBEoYKVaI8Kx9c+oroNMuLuDQQvnLHdTEeUA44j6MPavoKFKSWh5VedWLaub1vPLaW9hBdSDcsW3yo23LJz94n1FS3O+fzIXtbR4+SrSSYPHb8a4tZLqC+VfMyYjtU54X/Zz6GtTUrmeUGSaC0QhgTtlySa3q4U46kqsHFpEk9paI8MU0NsJpYWYwl/kiPsawdTvbptD+wTYEcDKokU5302aTzprm4mtrectKCd78j2HtS6tZSppjXkjpHA7DZaxsGVc/rXlYmnZnp0a1d/EfP3xwP/ABNNM/64N/6FRR8cP+Qrpn/XBv8A0KiuWx1XfU7X9nWdV0HWws08crXC/LGucpt5NemwoLiylghvbloQ4EaSJtDD1PpXlX7O0hi07VZ3llhRZAu+Jctnb93Hoe9ewWN7DdQ7kjVLlEKiB/lR17sT6jsKmm+Vk13UdO6IY/D8pdVkktw33l2SggqOuferMmgsVeaGSIqzArucA49BSW32WKOBkgiEjxEhc8Mvcn0b0FXFurX7FBstbd1C7omdsNtHqOx9q9qhjHFaHl1JVYxKJ8PzNHLKxEahxtAP8Pf8ahm0KVnYWwAR/nXedvA9fetmfXTNbRwQ20GJF8wktjOP4j7jsKrya0XESqi3OYyd0pxu/wBo+9VUxbmtRUqU6ujexnW2jlbNmljRnZ1dVJ48sfe59faq+vy2piENvYQwpL+8hIznaOufQ+1bCao3lWypDEYjA27c2Mt2P1FZGsokumWtyrhpEXa+erZPWvGr1NTtjRkveueH/E4oPGHh0nKoWXLY5x5gr6CJt2vkNqVu7YIyEXPyYz3H0r59+KWP+Ex8OmRyyF169h5gr6HuP7JlurUxRL5CxmN9wxlj0NYudpJnTJzgtNTJaAfbWtoIIGEWWDFsBgOetaGnNJaSDU/s8CW0g2eTG+fvccjqKqXIWzuHit4VmigbYVHO8+vFbNp9mW8sg8UEK3MDSyRbuCw6BvSu6niLRR59SVST10NCS3gNqv2KysmEhDSQtJhSfUetV5PLjctaWFvHPEdoQMRx/s+o96zpbZ0vXubYwOioweAyALAcdE9R3p9ne3iw2l15FpNIkLLG0kuGCHqMVUq0mccqCqVPd2LzSzpHNKNMspL2Rwy7pTnHcii01O7hkdfs0CFnBmZnwWb196yv+ElCXFu/9m2/nqhRWycoD1AqjrFzJdTtPMXRC4B4+4D1A9q4Kt2zvhQxM5tRfumJ44cz3msytJuTZJ0OQ3y1xf7Ok1tFo+sG6iTaZ1Cr/tbeK6fxMsMVpqKWzM9v5b7GYYJ+U9q4L4Go02lamFf51mU4PA+7TtaKudDVSnue4Wmrw212pvIEjMcTRt5eWDMaiXXDMqqlmojjUoIhnZk9CT6jtSWGlSSW1vOvkXCPGWkSZwuD6/UVetrK4UKtkkBgcbmRpMb27MfcV2UK1KM1dHJVhGWrM2xtLm7usTiJdqkBZH2j6896tLo0tjEZ5mt5GBBiUSg5HqatXll5ab9RImuiwJBORjvk+vtU839mNZtMlm6OrCNAYyCQe9eo8wcmcTn9mKMeGyuNTuJLiWNVUyAszHGD6D1BrSvI9Pgumt7qxiBlzsWEF8/7R9CKdJqcdtp5sZYSzxsBGpBwwH8R9CKZZTq2qIxVI5miY7lP3j6n0NeZja0ZLcmVKcdZmV4k01LHT4N1xcyEADYycda8M+JzIfGPh1Y3ddrKOByv7wdK948V3OofZYYrqWORcZLrIGPWvBviidnjDw65+TLK3mLyw/eDmvPpy5onqYSP7t6nt95KJr2SNJJZmGQXuV2MTVaECzBeX96cYMa85P8Ae49K0tRtX1bZLHIHjRgrXEpCyPk9cUjW1ra293CsrfbFlAhlQZJi/irXDV3TkegnaC0I9CvDHM7uvmTujCPfxhcc1Ztb+5g+aSyhnMfyISxyFPXHt71Fp5W3nZo4xdt5bCITcYTHPSrun2eoXFvDJClpEzIWizMAUTuv0Nem8ZCx59ZQdT4d+pK2swWU8MlrAI5pI2EsYBCZPYHuPeo/7XubpoxY2trA0aGNysn3c9VHsalGm30u1JLazlLISqGbiJe4X2pkWnyWAiVNO09y0Zb/AF3Dj1NefWrQkxUqdNzu+gsTy6HZvOba0KufuRybuexwPSuD8SXT3cOpXE4JZ4nJcc87TXZKkEsbPPH9mQ9TCNxT/ZUd19TXGeIBGLTUUtZ5GtlicbWGATtOK46WlVs60uW1jhfgXCV0PVZSQAZlAIOT92vXNN0uS6tVkt5jvRDvaUhMeoX1rzP9niTT18P61De71uHuEEbKmQPl7ntzXq2jwXF5I2lzSbtn3Zc5CAdgenNaKXLJs56tRq4tnodytit2qxTLIu6MM/LL649aqy2t0v2Z5kjPnYMaq2SvOMEdq6pLK/sWt1hgt3S2XylaSTbuUnr9aqT28/8AbolEVum/LNh+c+9elQzBo4HKVSLlcz7jSru2DLOY9hkXzAj7sNVe8syJ5ykSMiyAKWOPwrpr6+sWt3iigQ3HnKZcD5WI757mob1nEdy32S3ktpJRIrM+GyOhI7H2rrlmV0YQqVqslHlMSLSXbzp5Ut4QwLhFk5TjpiqV5bGLw+txcPJ5khUxKoyrL3JPY1vGJb/TppzZRpdidAcZzMp6l/Q1n+LbxG/0KMyWSw/KLaNcxt75NeRWxDkz0qNGsviPnT44f8hXTP8Arg3/AKFRR8cP+Qrpn/XBv/QqKSZ22fU1/gtqgsNG1GJrtId8ysAzhc/L716G+r28gXde2vA6+cv+NfLjkhiB0zSqMxknrSiXJn1EuuWq9L+D/v6v+NI2rWcnJv7f/v6v+NfLWTS5NbKbRk4n1Iur2ikYv4OmP9av+NL/AG3bBVH2+Dpj/Wr/AI18t5NGT60ObLUmj6jbW7QoF+3QfKNv+tX/ABpjataeUsf26D5Bj/Wr/jXy+Cf1oYnceaykPnZ6j8ULi3n8SaBJBNFJtALsrg4+cV6k+tWsqRf6dAAg4Hmr/jXzBGAUbPOOlR7j60kO59UW/iGKGYy2+pxJKev71RUdxrFpPOZZtRheY9SZF/xr5byc570qk1qmZSimz6kXWLZOl7a/9/l/xo/ti2Ygm9tc/wDXZf8AGvlsUNxVubLZ9RDWLb7T5jahBv8A+uq/41JceIIrhsTajAV/66rXyuSc0oJ9axZDR9KapqFk2l3u27t3/dMFBlXP3T2zXDfBe+httL1NJp4onadWG9wvG33ryTO45PJNL/Ey9vSkmUfUg1u1HTU4f+/q/wCNSR+Io42DJqkQKnI/erXyoKXNaJiaR9XXHiRLhpDNqkTNNIJmbzV+8OlTTeLpJiGudXicpx/rl618nZ/dn603OTQ5GToRPqqTxGkkhmm1WIsf+mq1EmuW0chlTUYSzdf3q18srz1p3Ssm7mkaKPqF9WtpQ2+9tQCe0y/415X8UrmGbxLobQTJIseAWDAgfOK8xkGMYpQxcjcc4HFBR9SNr9u8UKm/g/dL5f8ArV6Gkh1i0gmaRL+D5fkH71eh/GvlrccHmkyelCA+qk1+CGQTpqcO/aU/1q9DSf23bHY/9pw5Vdo/er0NfLUXLHPpSelatlXPquLxGkBUpqsW5UMYPmrwp6iol16EJGv9pxBY0KIPNX5VPavlpfun/eFEn3n+tZMLn1MniOOIxkahATChiX96v3T1rL1bUbFtLu0W8gO+FyoEi+h96+bMkYwe1IrEY56dKCYo9d+C95FBpOpW89xFFvmV8SOFzhfevTLTX0tImjt7+2j3MGysy18sKd7kvyTzSsMKuO4pClFM+rrjxZLcqIJtYiMafOP3y9uar/8ACSRmVrhtTiMkoO796vfivlY9Fpyfe/CnBWJ9kj6mXX4UjjRNTi2pyf3q/e7U5vE0bLKJNTi3SSCVv3q/eFfK2T/WkzlsnmtXIFSSPrBPFciySSx6xEpmO9v3y9aq33iCC9mWa61KGR4xsGZVPBr5XPWpE7fSsiz0T4ySxXOpWLQSRSKkTAlXB70V54QCI8+lFAH/2Q==)"
      ],
      "metadata": {
        "id": "-Wen3oemnSwl"
      }
    }
  ],
  "metadata": {
    "colab": {
      "provenance": [],
      "collapsed_sections": [
        "F2DXH7U1Sbmz",
        "LRMVnk3nc9ps",
        "Ee7xSRO8nJzN",
        "lfytMvVpe4Zi",
        "kCDeDyCNexqx"
      ]
    },
    "kernelspec": {
      "display_name": "Python 3",
      "name": "python3"
    }
  },
  "nbformat": 4,
  "nbformat_minor": 0
}